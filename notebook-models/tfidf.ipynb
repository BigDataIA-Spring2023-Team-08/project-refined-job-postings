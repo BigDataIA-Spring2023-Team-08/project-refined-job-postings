{
  "nbformat": 4,
  "nbformat_minor": 0,
  "metadata": {
    "colab": {
      "provenance": []
    },
    "kernelspec": {
      "name": "python3",
      "display_name": "Python 3"
    },
    "language_info": {
      "name": "python"
    }
  },
  "cells": [
    {
      "cell_type": "code",
      "source": [
        "import pandas as pd"
      ],
      "metadata": {
        "id": "JWF1MZrRzCF-"
      },
      "execution_count": null,
      "outputs": []
    },
    {
      "cell_type": "code",
      "source": [
        "df = pd.read_csv(\"trial_25.csv\")"
      ],
      "metadata": {
        "id": "gT8EYIfhyQ3i"
      },
      "execution_count": null,
      "outputs": []
    },
    {
      "cell_type": "code",
      "execution_count": null,
      "metadata": {
        "id": "5h2YIdO5yP7b"
      },
      "outputs": [],
      "source": [
        "import pandas as pd\n",
        "from sklearn.metrics.pairwise import cosine_similarity\n",
        "from sklearn.feature_extraction.text import TfidfVectorizer\n",
        "\n",
        "# Create a new TfidfVectorizer object and fit it on concatenated list of job descriptions and resumes\n",
        "tfidf_vectorizer = TfidfVectorizer(stop_words='english')\n",
        "jd_and_resumes = df['JobDescription'].tolist() + df['ResumeText'].tolist()\n",
        "tfidf_vectorizer.fit(jd_and_resumes)\n",
        "\n",
        "# Transform the job descriptions and resumes using the vectorizer\n",
        "jd_tfidf = tfidf_vectorizer.transform(df['JobDescription'])\n",
        "resume_tfidf = tfidf_vectorizer.transform(df['ResumeText'])\n",
        "\n",
        "# Compute the cosine similarity between each job description and its corresponding resume\n",
        "df['cosine_sim'] = [cosine_similarity(jd_tfidf[i], resume_tfidf[i])[0][0] for i in range(len(df))]\n",
        "out_df = df.sort_values('cosine_sim', ascending=False)\n"
      ]
    },
    {
      "cell_type": "code",
      "source": [
        "out_df.head()"
      ],
      "metadata": {
        "id": "3YsCXud8jusk",
        "outputId": "93b1e19b-ce2a-4534-c0f2-b4816d690f59",
        "colab": {
          "base_uri": "https://localhost:8080/",
          "height": 206
        }
      },
      "execution_count": null,
      "outputs": [
        {
          "output_type": "execute_result",
          "data": {
            "text/plain": [
              "                                       JobDescription  \\\n",
              "15  department: technology\\nemployment type: full ...   \n",
              "23  work to be performed onsite in chattanooga, tn...   \n",
              "3   Qualifications\\n•\\nFive (5) or more years of p...   \n",
              "11  to power smart mobility for every driver and v...   \n",
              "10  to power smart mobility for every driver and v...   \n",
              "\n",
              "                                           ResumeText  cosine_sim  \n",
              "15  sai poojitha konduparti\\nboston, ma •  • •  •\\...    0.253892  \n",
              "23  vraj mashruwala\\nboston, ma 0\\neducation\\nnort...    0.203960  \n",
              "3   CONTACT dyonteblake4@email.com (123) 456-7890 ...    0.182997  \n",
              "11  sai poojitha konduparti\\nboston, ma •  • •  •\\...    0.153042  \n",
              "10  vraj mashruwala\\nboston, ma 0\\neducation\\nnort...    0.144574  "
            ],
            "text/html": [
              "\n",
              "  <div id=\"df-68b6e3ce-6543-4082-ba73-b2f22efb5581\">\n",
              "    <div class=\"colab-df-container\">\n",
              "      <div>\n",
              "<style scoped>\n",
              "    .dataframe tbody tr th:only-of-type {\n",
              "        vertical-align: middle;\n",
              "    }\n",
              "\n",
              "    .dataframe tbody tr th {\n",
              "        vertical-align: top;\n",
              "    }\n",
              "\n",
              "    .dataframe thead th {\n",
              "        text-align: right;\n",
              "    }\n",
              "</style>\n",
              "<table border=\"1\" class=\"dataframe\">\n",
              "  <thead>\n",
              "    <tr style=\"text-align: right;\">\n",
              "      <th></th>\n",
              "      <th>JobDescription</th>\n",
              "      <th>ResumeText</th>\n",
              "      <th>cosine_sim</th>\n",
              "    </tr>\n",
              "  </thead>\n",
              "  <tbody>\n",
              "    <tr>\n",
              "      <th>15</th>\n",
              "      <td>department: technology\\nemployment type: full ...</td>\n",
              "      <td>sai poojitha konduparti\\nboston, ma •  • •  •\\...</td>\n",
              "      <td>0.253892</td>\n",
              "    </tr>\n",
              "    <tr>\n",
              "      <th>23</th>\n",
              "      <td>work to be performed onsite in chattanooga, tn...</td>\n",
              "      <td>vraj mashruwala\\nboston, ma 0\\neducation\\nnort...</td>\n",
              "      <td>0.203960</td>\n",
              "    </tr>\n",
              "    <tr>\n",
              "      <th>3</th>\n",
              "      <td>Qualifications\\n•\\nFive (5) or more years of p...</td>\n",
              "      <td>CONTACT dyonteblake4@email.com (123) 456-7890 ...</td>\n",
              "      <td>0.182997</td>\n",
              "    </tr>\n",
              "    <tr>\n",
              "      <th>11</th>\n",
              "      <td>to power smart mobility for every driver and v...</td>\n",
              "      <td>sai poojitha konduparti\\nboston, ma •  • •  •\\...</td>\n",
              "      <td>0.153042</td>\n",
              "    </tr>\n",
              "    <tr>\n",
              "      <th>10</th>\n",
              "      <td>to power smart mobility for every driver and v...</td>\n",
              "      <td>vraj mashruwala\\nboston, ma 0\\neducation\\nnort...</td>\n",
              "      <td>0.144574</td>\n",
              "    </tr>\n",
              "  </tbody>\n",
              "</table>\n",
              "</div>\n",
              "      <button class=\"colab-df-convert\" onclick=\"convertToInteractive('df-68b6e3ce-6543-4082-ba73-b2f22efb5581')\"\n",
              "              title=\"Convert this dataframe to an interactive table.\"\n",
              "              style=\"display:none;\">\n",
              "        \n",
              "  <svg xmlns=\"http://www.w3.org/2000/svg\" height=\"24px\"viewBox=\"0 0 24 24\"\n",
              "       width=\"24px\">\n",
              "    <path d=\"M0 0h24v24H0V0z\" fill=\"none\"/>\n",
              "    <path d=\"M18.56 5.44l.94 2.06.94-2.06 2.06-.94-2.06-.94-.94-2.06-.94 2.06-2.06.94zm-11 1L8.5 8.5l.94-2.06 2.06-.94-2.06-.94L8.5 2.5l-.94 2.06-2.06.94zm10 10l.94 2.06.94-2.06 2.06-.94-2.06-.94-.94-2.06-.94 2.06-2.06.94z\"/><path d=\"M17.41 7.96l-1.37-1.37c-.4-.4-.92-.59-1.43-.59-.52 0-1.04.2-1.43.59L10.3 9.45l-7.72 7.72c-.78.78-.78 2.05 0 2.83L4 21.41c.39.39.9.59 1.41.59.51 0 1.02-.2 1.41-.59l7.78-7.78 2.81-2.81c.8-.78.8-2.07 0-2.86zM5.41 20L4 18.59l7.72-7.72 1.47 1.35L5.41 20z\"/>\n",
              "  </svg>\n",
              "      </button>\n",
              "      \n",
              "  <style>\n",
              "    .colab-df-container {\n",
              "      display:flex;\n",
              "      flex-wrap:wrap;\n",
              "      gap: 12px;\n",
              "    }\n",
              "\n",
              "    .colab-df-convert {\n",
              "      background-color: #E8F0FE;\n",
              "      border: none;\n",
              "      border-radius: 50%;\n",
              "      cursor: pointer;\n",
              "      display: none;\n",
              "      fill: #1967D2;\n",
              "      height: 32px;\n",
              "      padding: 0 0 0 0;\n",
              "      width: 32px;\n",
              "    }\n",
              "\n",
              "    .colab-df-convert:hover {\n",
              "      background-color: #E2EBFA;\n",
              "      box-shadow: 0px 1px 2px rgba(60, 64, 67, 0.3), 0px 1px 3px 1px rgba(60, 64, 67, 0.15);\n",
              "      fill: #174EA6;\n",
              "    }\n",
              "\n",
              "    [theme=dark] .colab-df-convert {\n",
              "      background-color: #3B4455;\n",
              "      fill: #D2E3FC;\n",
              "    }\n",
              "\n",
              "    [theme=dark] .colab-df-convert:hover {\n",
              "      background-color: #434B5C;\n",
              "      box-shadow: 0px 1px 3px 1px rgba(0, 0, 0, 0.15);\n",
              "      filter: drop-shadow(0px 1px 2px rgba(0, 0, 0, 0.3));\n",
              "      fill: #FFFFFF;\n",
              "    }\n",
              "  </style>\n",
              "\n",
              "      <script>\n",
              "        const buttonEl =\n",
              "          document.querySelector('#df-68b6e3ce-6543-4082-ba73-b2f22efb5581 button.colab-df-convert');\n",
              "        buttonEl.style.display =\n",
              "          google.colab.kernel.accessAllowed ? 'block' : 'none';\n",
              "\n",
              "        async function convertToInteractive(key) {\n",
              "          const element = document.querySelector('#df-68b6e3ce-6543-4082-ba73-b2f22efb5581');\n",
              "          const dataTable =\n",
              "            await google.colab.kernel.invokeFunction('convertToInteractive',\n",
              "                                                     [key], {});\n",
              "          if (!dataTable) return;\n",
              "\n",
              "          const docLinkHtml = 'Like what you see? Visit the ' +\n",
              "            '<a target=\"_blank\" href=https://colab.research.google.com/notebooks/data_table.ipynb>data table notebook</a>'\n",
              "            + ' to learn more about interactive tables.';\n",
              "          element.innerHTML = '';\n",
              "          dataTable['output_type'] = 'display_data';\n",
              "          await google.colab.output.renderOutput(dataTable, element);\n",
              "          const docLink = document.createElement('div');\n",
              "          docLink.innerHTML = docLinkHtml;\n",
              "          element.appendChild(docLink);\n",
              "        }\n",
              "      </script>\n",
              "    </div>\n",
              "  </div>\n",
              "  "
            ]
          },
          "metadata": {},
          "execution_count": 6
        }
      ]
    },
    {
      "cell_type": "code",
      "source": [
        "job_ids = out_df[\"Job ID\"]"
      ],
      "metadata": {
        "id": "uISxdd2uz1K-"
      },
      "execution_count": null,
      "outputs": []
    },
    {
      "cell_type": "code",
      "source": [
        "job_ids.head(3)\n"
      ],
      "metadata": {
        "colab": {
          "base_uri": "https://localhost:8080/"
        },
        "id": "aSONHbATzEak",
        "outputId": "5798125b-7b59-429d-9ea9-9f7a8caf7c7c"
      },
      "execution_count": null,
      "outputs": [
        {
          "output_type": "execute_result",
          "data": {
            "text/plain": [
              "9     3587949294\n",
              "10    3582154016\n",
              "5     3584225465\n",
              "Name: Job ID, dtype: int64"
            ]
          },
          "metadata": {},
          "execution_count": 13
        }
      ]
    },
    {
      "cell_type": "code",
      "source": [],
      "metadata": {
        "id": "kq18rvI4zXGt"
      },
      "execution_count": null,
      "outputs": []
    }
  ]
}